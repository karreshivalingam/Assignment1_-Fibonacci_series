{
 "cells": [
  {
   "cell_type": "code",
   "execution_count": 6,
   "id": "ea7ca7ae",
   "metadata": {},
   "outputs": [
    {
     "name": "stdout",
     "output_type": "stream",
     "text": [
      "Even numbers in the list:  4\n",
      "Odd numbers in the list:  5\n"
     ]
    }
   ],
   "source": [
    "l = [10,23,56,89,45,69,86,53,22]\n",
    "even_numbers, odd_numbers = 0, 0\n",
    "\n",
    "for num in l:\n",
    "    if num % 2 == 0:\n",
    "        even_numbers += 1\n",
    "    else:\n",
    "        odd_numbers += 1\n",
    " \n",
    "print(\"Even numbers in the list: \", even_numbers)\n",
    "print(\"Odd numbers in the list: \", odd_numbers)"
   ]
  },
  {
   "cell_type": "code",
   "execution_count": null,
   "id": "fbfd6f7b",
   "metadata": {},
   "outputs": [],
   "source": []
  },
  {
   "cell_type": "code",
   "execution_count": null,
   "id": "e0c79fb8",
   "metadata": {},
   "outputs": [],
   "source": []
  },
  {
   "cell_type": "code",
   "execution_count": null,
   "id": "ce1a5070",
   "metadata": {},
   "outputs": [],
   "source": []
  }
 ],
 "metadata": {
  "kernelspec": {
   "display_name": "Python 3 (ipykernel)",
   "language": "python",
   "name": "python3"
  },
  "language_info": {
   "codemirror_mode": {
    "name": "ipython",
    "version": 3
   },
   "file_extension": ".py",
   "mimetype": "text/x-python",
   "name": "python",
   "nbconvert_exporter": "python",
   "pygments_lexer": "ipython3",
   "version": "3.10.9"
  }
 },
 "nbformat": 4,
 "nbformat_minor": 5
}
